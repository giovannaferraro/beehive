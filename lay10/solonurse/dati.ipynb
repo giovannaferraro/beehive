{
 "cells": [
  {
   "cell_type": "code",
   "execution_count": null,
   "metadata": {},
   "outputs": [],
   "source": []
  },
  {
   "cell_type": "markdown",
   "metadata": {},
   "source": [
    "## SOLO NURSE\n",
    "api = 150\n",
    "\n",
    "cibo = 450\n",
    "\n",
    "lay = 5\n",
    "\n",
    "hp: nella maggior parte dei casi muoiono in poche epoche\n",
    "\n",
    "th: hp confermata, se sopravvive ci sono in media 50 api totali"
   ]
  },
  {
   "cell_type": "markdown",
   "metadata": {},
   "source": [
    "## SOLO GUARDIANE\n",
    "api = 150\n",
    "cibo = 450\n",
    "lay = 5\n",
    "hp: moria ma senza speranza perché mancano le nurse e quindi le api regine non depongono uova\n",
    "th: "
   ]
  }
 ],
 "metadata": {
  "language_info": {
   "name": "python"
  }
 },
 "nbformat": 4,
 "nbformat_minor": 2
}
