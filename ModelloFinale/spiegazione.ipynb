{
 "cells": [
  {
   "cell_type": "markdown",
   "metadata": {},
   "source": [
    "- **queen bee**: when the model is created, there is already one queen bee in the hive. See produces mandibular pheromones to indicate the well being. https://en.wikipedia.org/wiki/Queen_mandibular_pheromone says that drones are attracted by this pheromone, and forager bees are not. The curve of the pheromone is an inverse parabola: first the QMP increases, reached a plateau after 1.5/2 years and then start decreasing. the bee produces a pheromone to advertise the nurses that new eggs have been laid.\n",
    "\n",
    "- **nurse**: the newly born bees that are not queens. they support the queen bee in brooding the eggs, by sensing the laid egg pheromone. they take the food from the resource bank and feed the larvae. when they reach a certain age, then they become cleaner or foragers. \n",
    "\n",
    "- **foragers**: go and look for food. via a specific pheromone they mark the path to go back home. maybe this can be done by creating some food resources outside the bee hive and make the foragers travel around, look for food and increase the resource. \n",
    "\n",
    "- **cleaner**: remove dead bees and keep the hive clean from intruders. \n"
   ]
  },
  {
   "cell_type": "markdown",
   "metadata": {},
   "source": [
    "### CONDIZIONI DI SEMPLIFICAZIONE DELL'ALVEARE\n",
    "\n",
    "- le api non si muovono, rimangono nell'alveare e fanno cose per magia\n",
    "\n",
    "- avanzamento di età delle api\n",
    "    - ogni step l'ape aumenta età +1 **OK**\n",
    "    - per simulare l'invecchiamento in assenza ci cibo, c'è una variabile lifecredit: indica quanti step (giorni) può sopravvivere un ape senza mangiare **OK**\n",
    "\n",
    "- le risorse dell'alveare esistono in patches. le api prelevano/fillano questi patches.\n",
    "\n",
    "- le **api foragers** scompaiono e compaiono dall'alveare ogni tot per prendere cibo \n",
    "    - selezionano una quantità random di cibo che mettono in una risorsa random **OK**\n",
    "    - con un probabilità le api possono anche non tornare perché sono state uccise fuori dall'alveare **OK**\n",
    "\n",
    "- le **api guardiane** hanno una quantità random di vita\n",
    "    - con una probabilità muoiono, vuol dire che sono comparsi degli insetti cattivi, che quindi hanno ucciso le apine guardiane\n",
    "\n",
    "- le **api nurse** prelevano cibo dalle risorse per darlo da mangiare alle larve\n",
    "\n",
    "- le **larve** vengono depositate random dall'ape regina\n",
    "    - ogni larva ha un contatore e dopo aver ricevuto 3 slot di cibo diventa ape normale\n",
    "\n"
   ]
  },
  {
   "cell_type": "markdown",
   "metadata": {},
   "source": []
  }
 ],
 "metadata": {
  "language_info": {
   "name": "python"
  }
 },
 "nbformat": 4,
 "nbformat_minor": 2
}
